{
 "cells": [
  {
   "cell_type": "code",
   "execution_count": 1,
   "id": "d4c0a56f",
   "metadata": {},
   "outputs": [
    {
     "name": "stderr",
     "output_type": "stream",
     "text": [
      "Found credentials in shared credentials file: ~/.aws/credentials\n",
      "using aiart-1.53.1.\n"
     ]
    }
   ],
   "source": [
    "import requests\n",
    "from bs4 import BeautifulSoup\n",
    "from aiart import NAME, VERSION\n",
    "from aiart import html\n",
    "from functools import reduce\n",
    "import abcli.logging\n",
    "import logging\n",
    "\n",
    "logger = logging.getLogger()\n",
    "\n",
    "logger.info(f\"using {NAME}-{VERSION}.\")"
   ]
  },
  {
   "cell_type": "code",
   "execution_count": 2,
   "id": "58e16973",
   "metadata": {},
   "outputs": [],
   "source": [
    "# url = \"https://allpoetry.com/16-bit-Intel-8088-chip\"\n",
    "# url = \"https://www.poetryfoundation.org/poems/45502/the-red-wheelbarrow\"\n",
    "url = \"https://medium.com/scribe/ode-to-spring-52f7bdc65d9e\""
   ]
  },
  {
   "cell_type": "code",
   "execution_count": 3,
   "id": "89eb2f61",
   "metadata": {},
   "outputs": [],
   "source": [
    "soup = BeautifulSoup(requests.get(url).content, \"html.parser\")"
   ]
  },
  {
   "cell_type": "code",
   "execution_count": 4,
   "id": "6df2ab79",
   "metadata": {},
   "outputs": [],
   "source": [
    "# soup.find(\"h1\",{\"class\":\"pw-post-title\"}).text.strip()"
   ]
  },
  {
   "cell_type": "code",
   "execution_count": 5,
   "id": "4c0cd33c",
   "metadata": {},
   "outputs": [],
   "source": [
    "#for br in soup.find_all(\"br\"):\n",
    "#    br.replace_with(\"\\n\")\n",
    "#\n",
    "#reduce(\n",
    "#    lambda x,y: x+y,\n",
    "#    [\n",
    "#        [line.strip() for line in item.text.split(\"\\n\")]\n",
    "#        for item in soup.find_all(\"p\", {\"class\": \"pw-post-body-paragraph\"})\n",
    "#    ],\n",
    "#    [])"
   ]
  },
  {
   "cell_type": "code",
   "execution_count": 6,
   "id": "b586783b",
   "metadata": {},
   "outputs": [
    {
     "name": "stderr",
     "output_type": "stream",
     "text": [
      "Ode to Spring @ medium.com: 16 line(s):\n",
      "Let me dream of mandolins,\n",
      "buds of spring that paint the rusted winter’s cage,\n",
      "with gentle air poking through sculpted clouds,\n",
      "farewell to quilted charcoal sky,\n",
      "welcoming the breath of forsythia and lilacs coming back to life,\n",
      "a time of renewal and rebirth,\n",
      "like beauty bursting from the earth,\n",
      "an unravelling of strings,\n",
      "let me dream of these cherry blossomed days to come\n",
      "sweet gentle rain\n",
      "bouquets of sun\n",
      "embroidered with the ballet of butterflies, birds and buds\n",
      "as spring engulfs the gentle heart,\n",
      "and the stars and the moon await the equinox.\n",
      "Thank you to Thomas Gaudex and Scribe for this wonderful writing prompt — on the road to spring.\n",
      "© Connie Song 2023. All Rights Reserved.\n"
     ]
    }
   ],
   "source": [
    "_, content = html.ingest_url(url)"
   ]
  },
  {
   "cell_type": "code",
   "execution_count": 7,
   "id": "49aee715",
   "metadata": {},
   "outputs": [],
   "source": [
    "# END"
   ]
  }
 ],
 "metadata": {
  "kernelspec": {
   "display_name": "Python 3 (ipykernel)",
   "language": "python",
   "name": "python3"
  },
  "language_info": {
   "codemirror_mode": {
    "name": "ipython",
    "version": 3
   },
   "file_extension": ".py",
   "mimetype": "text/x-python",
   "name": "python",
   "nbconvert_exporter": "python",
   "pygments_lexer": "ipython3",
   "version": "3.9.15"
  }
 },
 "nbformat": 4,
 "nbformat_minor": 5
}
