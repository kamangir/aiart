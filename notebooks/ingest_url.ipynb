{
 "cells": [
  {
   "cell_type": "code",
   "execution_count": 1,
   "id": "d4c0a56f",
   "metadata": {},
   "outputs": [
    {
     "name": "stderr",
     "output_type": "stream",
     "text": [
      "Found credentials in shared credentials file: ~/.aws/credentials\n",
      "using aiart-1.40.1.\n"
     ]
    }
   ],
   "source": [
    "import requests\n",
    "from bs4 import BeautifulSoup\n",
    "from aiart import NAME, VERSION\n",
    "from aiart import html\n",
    "import abcli.logging\n",
    "import logging\n",
    "\n",
    "logger = logging.getLogger()\n",
    "\n",
    "logger.info(f\"using {NAME}-{VERSION}.\")"
   ]
  },
  {
   "cell_type": "code",
   "execution_count": 2,
   "id": "58e16973",
   "metadata": {},
   "outputs": [],
   "source": [
    "# url = \"https://allpoetry.com/Hemingway-Never-Did-This\"\n",
    "# url = \"https://allpoetry.com/16-bit-Intel-8088-chip\"\n",
    "url = \"https://www.poetryfoundation.org/poems/45502/the-red-wheelbarrow\""
   ]
  },
  {
   "cell_type": "code",
   "execution_count": 3,
   "id": "6df2ab79",
   "metadata": {},
   "outputs": [],
   "source": [
    "#soup = BeautifulSoup(requests.get(url).content, \"html.parser\")\n",
    "\n",
    "#soup.find(\"div\",{\"class\":\"c-feature-bd\"}).text.strip().split(\"\\r\")"
   ]
  },
  {
   "cell_type": "code",
   "execution_count": 4,
   "id": "b586783b",
   "metadata": {},
   "outputs": [
    {
     "name": "stderr",
     "output_type": "stream",
     "text": [
      "\n",
      "The Red Wheelbarrow @ www.poetryfoundation.org: 8 line(s):\n",
      "so much depends\n",
      "upon\n",
      "a red wheel\n",
      "barrow\n",
      "glazed with rain\n",
      "water\n",
      "beside the white\n",
      "chickens\n"
     ]
    }
   ],
   "source": [
    "_, content = html.ingest_url(url)"
   ]
  },
  {
   "cell_type": "code",
   "execution_count": 5,
   "id": "49aee715",
   "metadata": {},
   "outputs": [],
   "source": [
    "# END"
   ]
  }
 ],
 "metadata": {
  "kernelspec": {
   "display_name": "Python 3 (ipykernel)",
   "language": "python",
   "name": "python3"
  },
  "language_info": {
   "codemirror_mode": {
    "name": "ipython",
    "version": 3
   },
   "file_extension": ".py",
   "mimetype": "text/x-python",
   "name": "python",
   "nbconvert_exporter": "python",
   "pygments_lexer": "ipython3",
   "version": "3.9.15"
  }
 },
 "nbformat": 4,
 "nbformat_minor": 5
}
