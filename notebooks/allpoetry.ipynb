{
 "cells": [
  {
   "cell_type": "code",
   "execution_count": 1,
   "id": "d4c0a56f",
   "metadata": {},
   "outputs": [
    {
     "name": "stderr",
     "output_type": "stream",
     "text": [
      "Found credentials in shared credentials file: ~/.aws/credentials\n",
      "using openai_cli-2.70.1.\n"
     ]
    }
   ],
   "source": [
    "import os\n",
    "import requests\n",
    "from bs4 import BeautifulSoup\n",
    "from tqdm import tqdm\n",
    "from IPython.display import display, clear_output\n",
    "from abcli import file\n",
    "from abcli.modules.cookie import cookie\n",
    "from abcli.modules import objects\n",
    "from openai_cli import NAME, VERSION\n",
    "from openai_cli.DALLE.canvas import Canvas\n",
    "from openai_cli.DALLE.brush import TilingBrush\n",
    "\n",
    "import abcli.logging\n",
    "import logging\n",
    "\n",
    "logger = logging.getLogger()\n",
    "\n",
    "logger.info(f\"using {NAME}-{VERSION}.\")"
   ]
  },
  {
   "cell_type": "code",
   "execution_count": 2,
   "id": "58e16973",
   "metadata": {},
   "outputs": [],
   "source": [
    "# url = \"https://allpoetry.com/Hemingway-Never-Did-This\"\n",
    "url = \"https://allpoetry.com/16-bit-Intel-8088-chip\""
   ]
  },
  {
   "cell_type": "code",
   "execution_count": 3,
   "id": "b586783b",
   "metadata": {},
   "outputs": [
    {
     "name": "stderr",
     "output_type": "stream",
     "text": [
      "title: 16-bit Intel 8088 chip\n"
     ]
    }
   ],
   "source": [
    "response = requests.get(url)\n",
    "\n",
    "soup = BeautifulSoup(response.content, \"html.parser\")\n",
    "\n",
    "for br in soup.find_all(\"br\"):\n",
    "    br.replace_with(\"\\n\")\n",
    "\n",
    "title_element = soup.find(\"h1\", {\"class\": \"title\"})\n",
    "title = title_element.text.strip()\n",
    "\n",
    "logger.info(f\"title: {title}\")"
   ]
  },
  {
   "cell_type": "code",
   "execution_count": 4,
   "id": "609ec009",
   "metadata": {},
   "outputs": [
    {
     "name": "stderr",
     "output_type": "stream",
     "text": [
      "51 line(s):\n",
      "with an Apple Macintosh\n",
      "\n",
      "you can't run Radio Shack programs\n",
      "\n",
      "in its disc drive.\n",
      "\n",
      "nor can a Commodore 64\n",
      "\n",
      "drive read a file\n",
      "\n",
      "you have created on an\n",
      "\n",
      "IBM Personal Computer.\n",
      "\n",
      "both Kaypro and Osborne computers use\n",
      "\n",
      "the CP/M operating system\n",
      "\n",
      "but can't read each other's\n",
      "\n",
      "handwriting\n",
      "\n",
      "for they format (write\n",
      "\n",
      "on) discs in different\n",
      "\n",
      "ways.\n",
      "\n",
      "the Tandy 2000 runs MS-DOS but\n",
      "\n",
      "can't use most programs produced for\n",
      "\n",
      "the IBM Personal Computer\n",
      "\n",
      "unless certain\n",
      "\n",
      "bits and bytes are\n",
      "\n",
      "altered\n",
      "\n",
      "but the wind still blows over\n",
      "\n",
      "Savannah\n",
      "\n",
      "and in the Spring\n",
      "\n",
      "the turkey buzzard struts and\n",
      "\n",
      "flounces before his\n",
      "\n",
      "hens.\n"
     ]
    }
   ],
   "source": [
    "poem_body = soup.find(\"div\", {\"class\": \"poem_body\"})\n",
    "poem_body = poem_body.find_all(\"div\")[1].text.strip().split(\"\\n\")\n",
    "\n",
    "logger.info(\"{:,} line(s):\\n{}\".format(\n",
    "    len(poem_body),\n",
    "    \"\\n\".join(poem_body)))"
   ]
  },
  {
   "cell_type": "code",
   "execution_count": 5,
   "id": "49aee715",
   "metadata": {},
   "outputs": [],
   "source": [
    "# END"
   ]
  }
 ],
 "metadata": {
  "kernelspec": {
   "display_name": "Python 3 (ipykernel)",
   "language": "python",
   "name": "python3"
  },
  "language_info": {
   "codemirror_mode": {
    "name": "ipython",
    "version": 3
   },
   "file_extension": ".py",
   "mimetype": "text/x-python",
   "name": "python",
   "nbconvert_exporter": "python",
   "pygments_lexer": "ipython3",
   "version": "3.9.15"
  }
 },
 "nbformat": 4,
 "nbformat_minor": 5
}
